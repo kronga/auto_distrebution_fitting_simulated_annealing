{
  "nbformat": 4,
  "nbformat_minor": 0,
  "metadata": {
    "colab": {
      "name": "auto_distribution_fitting_simulated_annealing.ipynb",
      "provenance": []
    },
    "kernelspec": {
      "name": "python3",
      "display_name": "Python 3"
    },
    "language_info": {
      "name": "python"
    }
  },
  "cells": [
    {
      "cell_type": "markdown",
      "source": [
        "# Automatic Distribution Fitting of Tabular Data using the Simulated Annealing Algorithm"
      ],
      "metadata": {
        "id": "eAFKIs9kAVcj"
      }
    },
    {
      "cell_type": "markdown",
      "source": [
        "First clone the repository"
      ],
      "metadata": {
        "id": "eIU6PBvMAqLY"
      }
    },
    {
      "cell_type": "code",
      "execution_count": 7,
      "metadata": {
        "colab": {
          "base_uri": "https://localhost:8080/"
        },
        "id": "EAnZ4n0M0PQC",
        "outputId": "949f01fc-d361-4b06-e296-e87db2938e73"
      },
      "outputs": [
        {
          "output_type": "stream",
          "name": "stdout",
          "text": [
            "fatal: destination path 'auto_distrebution_fitting_simulated_annealing' already exists and is not an empty directory.\n"
          ]
        }
      ],
      "source": [
        "!git clone https://github.com/kronga/auto_distrebution_fitting_simulated_annealing.git\n",
        "\n"
      ]
    },
    {
      "cell_type": "markdown",
      "source": [
        "Run the main.py file.\n",
        "10 datasets will be generated automatically with columns' values ranmozied from either uniform or normal distribution.\n",
        "\n",
        "Afterwards, our 'Simulated-Annealing' aglorithm' (SA) and the naive (brute-force_ appraoch) are run to find the best fit distribution for each column and its parametres."
      ],
      "metadata": {
        "id": "LBI7mAQ7AtOo"
      }
    },
    {
      "cell_type": "code",
      "source": [
        "!python auto_distrebution_fitting_simulated_annealing/main.py"
      ],
      "metadata": {
        "colab": {
          "base_uri": "https://localhost:8080/"
        },
        "id": "keuCcHVa1Q4-",
        "outputId": "976d64fa-7725-40ec-854a-6e7ade4d8028"
      },
      "execution_count": 8,
      "outputs": [
        {
          "output_type": "stream",
          "name": "stdout",
          "text": [
            "Finish with dataset 0\n",
            "Finish with dataset 1\n",
            "\n"
          ]
        }
      ]
    },
    {
      "cell_type": "markdown",
      "source": [
        "The results of the fit for each dataset are stores in the results folder as dictionary with column as keys and the pdf \n",
        "with the fitted paramteres as the values."
      ],
      "metadata": {
        "id": "_Ytg2oVZMnDK"
      }
    }
  ]
}